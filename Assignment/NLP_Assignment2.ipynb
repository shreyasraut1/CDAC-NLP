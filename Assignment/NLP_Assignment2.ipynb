{
 "cells": [
  {
   "cell_type": "markdown",
   "id": "a3d9af42",
   "metadata": {},
   "source": [
    "### Q. 1"
   ]
  },
  {
   "cell_type": "code",
   "execution_count": 25,
   "id": "15366879",
   "metadata": {},
   "outputs": [
    {
     "name": "stdout",
     "output_type": "stream",
     "text": [
      "Requirement already satisfied: nltk in c:\\users\\dell\\anaconda3\\envs\\shreyas\\lib\\site-packages (3.8.1)\n",
      "Requirement already satisfied: click in c:\\users\\dell\\anaconda3\\envs\\shreyas\\lib\\site-packages (from nltk) (8.1.7)\n",
      "Requirement already satisfied: joblib in c:\\users\\dell\\anaconda3\\envs\\shreyas\\lib\\site-packages (from nltk) (1.4.2)\n",
      "Requirement already satisfied: regex>=2021.8.3 in c:\\users\\dell\\anaconda3\\envs\\shreyas\\lib\\site-packages (from nltk) (2024.5.15)\n",
      "Requirement already satisfied: tqdm in c:\\users\\dell\\anaconda3\\envs\\shreyas\\lib\\site-packages (from nltk) (4.66.4)\n",
      "Requirement already satisfied: colorama in c:\\users\\dell\\anaconda3\\envs\\shreyas\\lib\\site-packages (from click->nltk) (0.4.6)\n",
      "Note: you may need to restart the kernel to use updated packages.\n"
     ]
    }
   ],
   "source": [
    "pip install nltk"
   ]
  },
  {
   "cell_type": "code",
   "execution_count": 3,
   "id": "1fcf1000",
   "metadata": {},
   "outputs": [],
   "source": [
    "from nltk import pos_tag\n",
    "from  nltk.tokenize import word_tokenize"
   ]
  },
  {
   "cell_type": "code",
   "execution_count": 10,
   "id": "c1050532",
   "metadata": {},
   "outputs": [
    {
     "name": "stderr",
     "output_type": "stream",
     "text": [
      "[nltk_data] Downloading package punkt to\n",
      "[nltk_data]     C:\\Users\\DELL\\AppData\\Roaming\\nltk_data...\n",
      "[nltk_data]   Unzipping tokenizers\\punkt.zip.\n",
      "[nltk_data] Downloading package averaged_perceptron_tagger to\n",
      "[nltk_data]     C:\\Users\\DELL\\AppData\\Roaming\\nltk_data...\n",
      "[nltk_data]   Unzipping taggers\\averaged_perceptron_tagger.zip.\n"
     ]
    },
    {
     "data": {
      "text/plain": [
       "True"
      ]
     },
     "execution_count": 10,
     "metadata": {},
     "output_type": "execute_result"
    }
   ],
   "source": [
    "import nltk\n",
    "nltk.download('punkt')\n",
    "nltk.download('averaged_perceptron_tagger')\n"
   ]
  },
  {
   "cell_type": "code",
   "execution_count": 4,
   "id": "5989f53b",
   "metadata": {},
   "outputs": [],
   "source": [
    "nasa='''The National Aeronautics and Space Administration (NASA; /ˈnæsə/) is an independent agency of the U.S. federal government responsible for the civil space program, aeronautics research, and space research. Established in 1958, it succeeded the National Advisory Committee for Aeronautics (NACA) to give the U.S. space development effort a distinct civilian orientation, emphasizing peaceful applications in space science. It has since led most of America's space exploration programs, including Project Mercury, Project Gemini, the 1968–1972 Apollo Moon landing missions, the Skylab space station, and the Space Shuttle. Currently, NASA supports the International Space Station (ISS) along with the Commercial Crew Program, and oversees the development of the Orion spacecraft and the Space Launch System for the lunar Artemis program.\n",
    "\n",
    "NASA's science division is focused on better understanding Earth through the Earth Observing System; advancing heliophysics through the efforts of the Science Mission Directorate's Heliophysics Research Program; exploring bodies throughout the Solar System with advanced robotic spacecraft such as New Horizons and planetary rovers such as Perseverance; and researching astrophysics topics, such as the Big Bang, through the James Webb Space Telescope, the Great Observatories and associated programs. The Launch Services Program oversees launch operations for its uncrewed launches.'''"
   ]
  },
  {
   "cell_type": "code",
   "execution_count": 5,
   "id": "3c5d726b",
   "metadata": {},
   "outputs": [
    {
     "data": {
      "text/plain": [
       "\"The National Aeronautics and Space Administration (NASA; /ˈnæsə/) is an independent agency of the U.S. federal government responsible for the civil space program, aeronautics research, and space research. Established in 1958, it succeeded the National Advisory Committee for Aeronautics (NACA) to give the U.S. space development effort a distinct civilian orientation, emphasizing peaceful applications in space science. It has since led most of America's space exploration programs, including Project Mercury, Project Gemini, the 1968–1972 Apollo Moon landing missions, the Skylab space station, and the Space Shuttle. Currently, NASA supports the International Space Station (ISS) along with the Commercial Crew Program, and oversees the development of the Orion spacecraft and the Space Launch System for the lunar Artemis program.\\n\\nNASA's science division is focused on better understanding Earth through the Earth Observing System; advancing heliophysics through the efforts of the Science Mission Directorate's Heliophysics Research Program; exploring bodies throughout the Solar System with advanced robotic spacecraft such as New Horizons and planetary rovers such as Perseverance; and researching astrophysics topics, such as the Big Bang, through the James Webb Space Telescope, the Great Observatories and associated programs. The Launch Services Program oversees launch operations for its uncrewed launches.\""
      ]
     },
     "execution_count": 5,
     "metadata": {},
     "output_type": "execute_result"
    }
   ],
   "source": [
    "nasa"
   ]
  },
  {
   "cell_type": "markdown",
   "id": "b673eaf7",
   "metadata": {},
   "source": [
    "### POS tagging"
   ]
  },
  {
   "cell_type": "code",
   "execution_count": 11,
   "id": "9c9d090b",
   "metadata": {},
   "outputs": [],
   "source": [
    "tags = pos_tag(word_tokenize(nasa))"
   ]
  },
  {
   "cell_type": "code",
   "execution_count": 12,
   "id": "036854a0",
   "metadata": {},
   "outputs": [
    {
     "data": {
      "text/plain": [
       "[('The', 'DT'),\n",
       " ('National', 'NNP'),\n",
       " ('Aeronautics', 'NNP'),\n",
       " ('and', 'CC'),\n",
       " ('Space', 'NNP'),\n",
       " ('Administration', 'NNP'),\n",
       " ('(', '('),\n",
       " ('NASA', 'NNP'),\n",
       " (';', ':'),\n",
       " ('/ˈnæsə/', 'NNP'),\n",
       " (')', ')'),\n",
       " ('is', 'VBZ'),\n",
       " ('an', 'DT'),\n",
       " ('independent', 'JJ'),\n",
       " ('agency', 'NN'),\n",
       " ('of', 'IN'),\n",
       " ('the', 'DT'),\n",
       " ('U.S.', 'NNP'),\n",
       " ('federal', 'JJ'),\n",
       " ('government', 'NN'),\n",
       " ('responsible', 'JJ'),\n",
       " ('for', 'IN'),\n",
       " ('the', 'DT'),\n",
       " ('civil', 'JJ'),\n",
       " ('space', 'NN'),\n",
       " ('program', 'NN'),\n",
       " (',', ','),\n",
       " ('aeronautics', 'NNS'),\n",
       " ('research', 'NN'),\n",
       " (',', ','),\n",
       " ('and', 'CC'),\n",
       " ('space', 'NN'),\n",
       " ('research', 'NN'),\n",
       " ('.', '.'),\n",
       " ('Established', 'VBN'),\n",
       " ('in', 'IN'),\n",
       " ('1958', 'CD'),\n",
       " (',', ','),\n",
       " ('it', 'PRP'),\n",
       " ('succeeded', 'VBD'),\n",
       " ('the', 'DT'),\n",
       " ('National', 'NNP'),\n",
       " ('Advisory', 'NNP'),\n",
       " ('Committee', 'NNP'),\n",
       " ('for', 'IN'),\n",
       " ('Aeronautics', 'NNP'),\n",
       " ('(', '('),\n",
       " ('NACA', 'NNP'),\n",
       " (')', ')'),\n",
       " ('to', 'TO'),\n",
       " ('give', 'VB'),\n",
       " ('the', 'DT'),\n",
       " ('U.S.', 'NNP'),\n",
       " ('space', 'NN'),\n",
       " ('development', 'NN'),\n",
       " ('effort', 'NN'),\n",
       " ('a', 'DT'),\n",
       " ('distinct', 'JJ'),\n",
       " ('civilian', 'JJ'),\n",
       " ('orientation', 'NN'),\n",
       " (',', ','),\n",
       " ('emphasizing', 'VBG'),\n",
       " ('peaceful', 'JJ'),\n",
       " ('applications', 'NNS'),\n",
       " ('in', 'IN'),\n",
       " ('space', 'NN'),\n",
       " ('science', 'NN'),\n",
       " ('.', '.'),\n",
       " ('It', 'PRP'),\n",
       " ('has', 'VBZ'),\n",
       " ('since', 'IN'),\n",
       " ('led', 'VBN'),\n",
       " ('most', 'JJS'),\n",
       " ('of', 'IN'),\n",
       " ('America', 'NNP'),\n",
       " (\"'s\", 'POS'),\n",
       " ('space', 'NN'),\n",
       " ('exploration', 'NN'),\n",
       " ('programs', 'NNS'),\n",
       " (',', ','),\n",
       " ('including', 'VBG'),\n",
       " ('Project', 'NNP'),\n",
       " ('Mercury', 'NNP'),\n",
       " (',', ','),\n",
       " ('Project', 'NNP'),\n",
       " ('Gemini', 'NNP'),\n",
       " (',', ','),\n",
       " ('the', 'DT'),\n",
       " ('1968–1972', 'CD'),\n",
       " ('Apollo', 'NNP'),\n",
       " ('Moon', 'NNP'),\n",
       " ('landing', 'VBG'),\n",
       " ('missions', 'NNS'),\n",
       " (',', ','),\n",
       " ('the', 'DT'),\n",
       " ('Skylab', 'NNP'),\n",
       " ('space', 'NN'),\n",
       " ('station', 'NN'),\n",
       " (',', ','),\n",
       " ('and', 'CC'),\n",
       " ('the', 'DT'),\n",
       " ('Space', 'NNP'),\n",
       " ('Shuttle', 'NNP'),\n",
       " ('.', '.'),\n",
       " ('Currently', 'NNP'),\n",
       " (',', ','),\n",
       " ('NASA', 'NNP'),\n",
       " ('supports', 'VBZ'),\n",
       " ('the', 'DT'),\n",
       " ('International', 'NNP'),\n",
       " ('Space', 'NNP'),\n",
       " ('Station', 'NNP'),\n",
       " ('(', '('),\n",
       " ('ISS', 'NNP'),\n",
       " (')', ')'),\n",
       " ('along', 'IN'),\n",
       " ('with', 'IN'),\n",
       " ('the', 'DT'),\n",
       " ('Commercial', 'JJ'),\n",
       " ('Crew', 'NNP'),\n",
       " ('Program', 'NNP'),\n",
       " (',', ','),\n",
       " ('and', 'CC'),\n",
       " ('oversees', 'VBZ'),\n",
       " ('the', 'DT'),\n",
       " ('development', 'NN'),\n",
       " ('of', 'IN'),\n",
       " ('the', 'DT'),\n",
       " ('Orion', 'NNP'),\n",
       " ('spacecraft', 'NN'),\n",
       " ('and', 'CC'),\n",
       " ('the', 'DT'),\n",
       " ('Space', 'NNP'),\n",
       " ('Launch', 'NNP'),\n",
       " ('System', 'NNP'),\n",
       " ('for', 'IN'),\n",
       " ('the', 'DT'),\n",
       " ('lunar', 'JJ'),\n",
       " ('Artemis', 'NNP'),\n",
       " ('program', 'NN'),\n",
       " ('.', '.'),\n",
       " ('NASA', 'NNP'),\n",
       " (\"'s\", 'POS'),\n",
       " ('science', 'NN'),\n",
       " ('division', 'NN'),\n",
       " ('is', 'VBZ'),\n",
       " ('focused', 'VBN'),\n",
       " ('on', 'IN'),\n",
       " ('better', 'JJR'),\n",
       " ('understanding', 'NN'),\n",
       " ('Earth', 'NNP'),\n",
       " ('through', 'IN'),\n",
       " ('the', 'DT'),\n",
       " ('Earth', 'NNP'),\n",
       " ('Observing', 'NNP'),\n",
       " ('System', 'NNP'),\n",
       " (';', ':'),\n",
       " ('advancing', 'VBG'),\n",
       " ('heliophysics', 'NNS'),\n",
       " ('through', 'IN'),\n",
       " ('the', 'DT'),\n",
       " ('efforts', 'NNS'),\n",
       " ('of', 'IN'),\n",
       " ('the', 'DT'),\n",
       " ('Science', 'NNP'),\n",
       " ('Mission', 'NNP'),\n",
       " ('Directorate', 'NNP'),\n",
       " (\"'s\", 'POS'),\n",
       " ('Heliophysics', 'NNP'),\n",
       " ('Research', 'NNP'),\n",
       " ('Program', 'NNP'),\n",
       " (';', ':'),\n",
       " ('exploring', 'VBG'),\n",
       " ('bodies', 'NNS'),\n",
       " ('throughout', 'IN'),\n",
       " ('the', 'DT'),\n",
       " ('Solar', 'NNP'),\n",
       " ('System', 'NNP'),\n",
       " ('with', 'IN'),\n",
       " ('advanced', 'JJ'),\n",
       " ('robotic', 'JJ'),\n",
       " ('spacecraft', 'NN'),\n",
       " ('such', 'JJ'),\n",
       " ('as', 'IN'),\n",
       " ('New', 'NNP'),\n",
       " ('Horizons', 'NNP'),\n",
       " ('and', 'CC'),\n",
       " ('planetary', 'JJ'),\n",
       " ('rovers', 'NNS'),\n",
       " ('such', 'JJ'),\n",
       " ('as', 'IN'),\n",
       " ('Perseverance', 'NNP'),\n",
       " (';', ':'),\n",
       " ('and', 'CC'),\n",
       " ('researching', 'VBG'),\n",
       " ('astrophysics', 'NNS'),\n",
       " ('topics', 'NNS'),\n",
       " (',', ','),\n",
       " ('such', 'JJ'),\n",
       " ('as', 'IN'),\n",
       " ('the', 'DT'),\n",
       " ('Big', 'NNP'),\n",
       " ('Bang', 'NNP'),\n",
       " (',', ','),\n",
       " ('through', 'IN'),\n",
       " ('the', 'DT'),\n",
       " ('James', 'NNP'),\n",
       " ('Webb', 'NNP'),\n",
       " ('Space', 'NNP'),\n",
       " ('Telescope', 'NNP'),\n",
       " (',', ','),\n",
       " ('the', 'DT'),\n",
       " ('Great', 'NNP'),\n",
       " ('Observatories', 'NNPS'),\n",
       " ('and', 'CC'),\n",
       " ('associated', 'VBN'),\n",
       " ('programs', 'NNS'),\n",
       " ('.', '.'),\n",
       " ('The', 'DT'),\n",
       " ('Launch', 'JJ'),\n",
       " ('Services', 'NNP'),\n",
       " ('Program', 'NNP'),\n",
       " ('oversees', 'VBZ'),\n",
       " ('launch', 'JJ'),\n",
       " ('operations', 'NNS'),\n",
       " ('for', 'IN'),\n",
       " ('its', 'PRP$'),\n",
       " ('uncrewed', 'JJ'),\n",
       " ('launches', 'NNS'),\n",
       " ('.', '.')]"
      ]
     },
     "execution_count": 12,
     "metadata": {},
     "output_type": "execute_result"
    }
   ],
   "source": [
    "tags"
   ]
  },
  {
   "cell_type": "markdown",
   "id": "3568c499",
   "metadata": {},
   "source": [
    "### Punctuation Removal"
   ]
  },
  {
   "cell_type": "code",
   "execution_count": 17,
   "id": "f24a6b03",
   "metadata": {},
   "outputs": [
    {
     "data": {
      "text/plain": [
       "'The National Aeronautics and Space Administration NASA is an independent agency of the federal government responsible for the civil space program aeronautics research and space research Established in 1958 it succeeded the National Advisory Committee for Aeronautics NACA to give the space development effort a distinct civilian orientation emphasizing peaceful applications in space science It has since led most of America space exploration programs including Project Mercury Project Gemini the Apollo Moon landing missions the Skylab space station and the Space Shuttle Currently NASA supports the International Space Station ISS along with the Commercial Crew Program and oversees the development of the Orion spacecraft and the Space Launch System for the lunar Artemis program NASA science division is focused on better understanding Earth through the Earth Observing System advancing heliophysics through the efforts of the Science Mission Directorate Heliophysics Research Program exploring bodies throughout the Solar System with advanced robotic spacecraft such as New Horizons and planetary rovers such as Perseverance and researching astrophysics topics such as the Big Bang through the James Webb Space Telescope the Great Observatories and associated programs The Launch Services Program oversees launch operations for its uncrewed launches'"
      ]
     },
     "execution_count": 17,
     "metadata": {},
     "output_type": "execute_result"
    }
   ],
   "source": [
    "nasa_clean = [x for x in word_tokenize(nasa) if x.isalpha() or x.isdigit()]\n",
    "\" \".join(nasa_clean)"
   ]
  },
  {
   "cell_type": "markdown",
   "id": "8c0fd507",
   "metadata": {},
   "source": [
    "### Stopwards Deleting"
   ]
  },
  {
   "cell_type": "code",
   "execution_count": 20,
   "id": "269c14c2",
   "metadata": {},
   "outputs": [],
   "source": [
    "from nltk.corpus import stopwords"
   ]
  },
  {
   "cell_type": "code",
   "execution_count": 21,
   "id": "d601df5f",
   "metadata": {},
   "outputs": [
    {
     "name": "stderr",
     "output_type": "stream",
     "text": [
      "[nltk_data] Downloading package stopwords to\n",
      "[nltk_data]     C:\\Users\\DELL\\AppData\\Roaming\\nltk_data...\n",
      "[nltk_data]   Unzipping corpora\\stopwords.zip.\n"
     ]
    },
    {
     "data": {
      "text/plain": [
       "True"
      ]
     },
     "execution_count": 21,
     "metadata": {},
     "output_type": "execute_result"
    }
   ],
   "source": [
    "nltk.download('stopwords')"
   ]
  },
  {
   "cell_type": "code",
   "execution_count": 22,
   "id": "d130a2dc",
   "metadata": {},
   "outputs": [],
   "source": [
    "stop_words = stopwords.words(\"english\")"
   ]
  },
  {
   "cell_type": "code",
   "execution_count": 23,
   "id": "d0a2ff0e",
   "metadata": {},
   "outputs": [
    {
     "data": {
      "text/plain": [
       "179"
      ]
     },
     "execution_count": 23,
     "metadata": {},
     "output_type": "execute_result"
    }
   ],
   "source": [
    "len(stop_words)"
   ]
  },
  {
   "cell_type": "code",
   "execution_count": 24,
   "id": "ce83b47d",
   "metadata": {},
   "outputs": [
    {
     "data": {
      "text/plain": [
       "\"National Aeronautics Space Administration ( NASA ; /ˈnæsə/ ) independent agency U.S. federal government responsible civil space program , aeronautics research , space research . Established 1958 , succeeded National Advisory Committee Aeronautics ( NACA ) give U.S. space development effort distinct civilian orientation , emphasizing peaceful applications space science . since led America 's space exploration programs , including Project Mercury , Project Gemini , 1968–1972 Apollo Moon landing missions , Skylab space station , Space Shuttle . Currently , NASA supports International Space Station ( ISS ) along Commercial Crew Program , oversees development Orion spacecraft Space Launch System lunar Artemis program . NASA 's science division focused better understanding Earth Earth Observing System ; advancing heliophysics efforts Science Mission Directorate 's Heliophysics Research Program ; exploring bodies throughout Solar System advanced robotic spacecraft New Horizons planetary rovers Perseverance ; researching astrophysics topics , Big Bang , James Webb Space Telescope , Great Observatories associated programs . Launch Services Program oversees launch operations uncrewed launches .\""
      ]
     },
     "execution_count": 24,
     "metadata": {},
     "output_type": "execute_result"
    }
   ],
   "source": [
    "clean_sw_nasa = [x for x in word_tokenize(nasa) if x.lower() not in stop_words]\n",
    "' '.join(clean_sw_nasa)"
   ]
  },
  {
   "cell_type": "markdown",
   "id": "4ffcb94a",
   "metadata": {},
   "source": [
    "### Morphological Analysis on Nouns (Completed in colab)"
   ]
  },
  {
   "cell_type": "markdown",
   "id": "b3d45bbc",
   "metadata": {},
   "source": [
    "### Top 3 words"
   ]
  },
  {
   "cell_type": "code",
   "execution_count": 41,
   "id": "eff7fa0e",
   "metadata": {},
   "outputs": [
    {
     "data": {
      "text/plain": [
       "['national',\n",
       " 'aeronautics',\n",
       " 'space',\n",
       " 'administration',\n",
       " 'nasa',\n",
       " 'independent',\n",
       " 'agency',\n",
       " 'federal',\n",
       " 'government',\n",
       " 'responsible',\n",
       " 'civil',\n",
       " 'space',\n",
       " 'program',\n",
       " 'aeronautics',\n",
       " 'research',\n",
       " 'space',\n",
       " 'research',\n",
       " 'established',\n",
       " 'succeeded',\n",
       " 'national',\n",
       " 'advisory',\n",
       " 'committee',\n",
       " 'aeronautics',\n",
       " 'naca',\n",
       " 'give',\n",
       " 'space',\n",
       " 'development',\n",
       " 'effort',\n",
       " 'distinct',\n",
       " 'civilian',\n",
       " 'orientation',\n",
       " 'emphasizing',\n",
       " 'peaceful',\n",
       " 'applications',\n",
       " 'space',\n",
       " 'science',\n",
       " 'since',\n",
       " 'led',\n",
       " 'america',\n",
       " 'space',\n",
       " 'exploration',\n",
       " 'programs',\n",
       " 'including',\n",
       " 'project',\n",
       " 'mercury',\n",
       " 'project',\n",
       " 'gemini',\n",
       " 'apollo',\n",
       " 'moon',\n",
       " 'landing',\n",
       " 'missions',\n",
       " 'skylab',\n",
       " 'space',\n",
       " 'station',\n",
       " 'space',\n",
       " 'shuttle',\n",
       " 'currently',\n",
       " 'nasa',\n",
       " 'supports',\n",
       " 'international',\n",
       " 'space',\n",
       " 'station',\n",
       " 'iss',\n",
       " 'along',\n",
       " 'commercial',\n",
       " 'crew',\n",
       " 'program',\n",
       " 'oversees',\n",
       " 'development',\n",
       " 'orion',\n",
       " 'spacecraft',\n",
       " 'space',\n",
       " 'launch',\n",
       " 'system',\n",
       " 'lunar',\n",
       " 'artemis',\n",
       " 'program',\n",
       " 'nasa',\n",
       " 'science',\n",
       " 'division',\n",
       " 'focused',\n",
       " 'better',\n",
       " 'understanding',\n",
       " 'earth',\n",
       " 'earth',\n",
       " 'observing',\n",
       " 'system',\n",
       " 'advancing',\n",
       " 'heliophysics',\n",
       " 'efforts',\n",
       " 'science',\n",
       " 'mission',\n",
       " 'directorate',\n",
       " 'heliophysics',\n",
       " 'research',\n",
       " 'program',\n",
       " 'exploring',\n",
       " 'bodies',\n",
       " 'throughout',\n",
       " 'solar',\n",
       " 'system',\n",
       " 'advanced',\n",
       " 'robotic',\n",
       " 'spacecraft',\n",
       " 'new',\n",
       " 'horizons',\n",
       " 'planetary',\n",
       " 'rovers',\n",
       " 'perseverance',\n",
       " 'researching',\n",
       " 'astrophysics',\n",
       " 'topics',\n",
       " 'big',\n",
       " 'bang',\n",
       " 'james',\n",
       " 'webb',\n",
       " 'space',\n",
       " 'telescope',\n",
       " 'great',\n",
       " 'observatories',\n",
       " 'associated',\n",
       " 'programs',\n",
       " 'launch',\n",
       " 'services',\n",
       " 'program',\n",
       " 'oversees',\n",
       " 'launch',\n",
       " 'operations',\n",
       " 'uncrewed',\n",
       " 'launches']"
      ]
     },
     "execution_count": 41,
     "metadata": {},
     "output_type": "execute_result"
    }
   ],
   "source": [
    "clean_sent = [x.lower() for x in word_tokenize(nasa) if x.lower() not in stop_words and (x.lower()).isalpha()]\n",
    "clean_sent"
   ]
  },
  {
   "cell_type": "code",
   "execution_count": 38,
   "id": "7ee8bb99",
   "metadata": {},
   "outputs": [],
   "source": [
    "from collections import Counter"
   ]
  },
  {
   "cell_type": "code",
   "execution_count": 42,
   "id": "141332f1",
   "metadata": {},
   "outputs": [
    {
     "data": {
      "text/plain": [
       "Counter({'space': 11,\n",
       "         'program': 5,\n",
       "         'aeronautics': 3,\n",
       "         'nasa': 3,\n",
       "         'research': 3,\n",
       "         'science': 3,\n",
       "         'launch': 3,\n",
       "         'system': 3,\n",
       "         'national': 2,\n",
       "         'development': 2,\n",
       "         'programs': 2,\n",
       "         'project': 2,\n",
       "         'station': 2,\n",
       "         'oversees': 2,\n",
       "         'spacecraft': 2,\n",
       "         'earth': 2,\n",
       "         'heliophysics': 2,\n",
       "         'administration': 1,\n",
       "         'independent': 1,\n",
       "         'agency': 1,\n",
       "         'federal': 1,\n",
       "         'government': 1,\n",
       "         'responsible': 1,\n",
       "         'civil': 1,\n",
       "         'established': 1,\n",
       "         'succeeded': 1,\n",
       "         'advisory': 1,\n",
       "         'committee': 1,\n",
       "         'naca': 1,\n",
       "         'give': 1,\n",
       "         'effort': 1,\n",
       "         'distinct': 1,\n",
       "         'civilian': 1,\n",
       "         'orientation': 1,\n",
       "         'emphasizing': 1,\n",
       "         'peaceful': 1,\n",
       "         'applications': 1,\n",
       "         'since': 1,\n",
       "         'led': 1,\n",
       "         'america': 1,\n",
       "         'exploration': 1,\n",
       "         'including': 1,\n",
       "         'mercury': 1,\n",
       "         'gemini': 1,\n",
       "         'apollo': 1,\n",
       "         'moon': 1,\n",
       "         'landing': 1,\n",
       "         'missions': 1,\n",
       "         'skylab': 1,\n",
       "         'shuttle': 1,\n",
       "         'currently': 1,\n",
       "         'supports': 1,\n",
       "         'international': 1,\n",
       "         'iss': 1,\n",
       "         'along': 1,\n",
       "         'commercial': 1,\n",
       "         'crew': 1,\n",
       "         'orion': 1,\n",
       "         'lunar': 1,\n",
       "         'artemis': 1,\n",
       "         'division': 1,\n",
       "         'focused': 1,\n",
       "         'better': 1,\n",
       "         'understanding': 1,\n",
       "         'observing': 1,\n",
       "         'advancing': 1,\n",
       "         'efforts': 1,\n",
       "         'mission': 1,\n",
       "         'directorate': 1,\n",
       "         'exploring': 1,\n",
       "         'bodies': 1,\n",
       "         'throughout': 1,\n",
       "         'solar': 1,\n",
       "         'advanced': 1,\n",
       "         'robotic': 1,\n",
       "         'new': 1,\n",
       "         'horizons': 1,\n",
       "         'planetary': 1,\n",
       "         'rovers': 1,\n",
       "         'perseverance': 1,\n",
       "         'researching': 1,\n",
       "         'astrophysics': 1,\n",
       "         'topics': 1,\n",
       "         'big': 1,\n",
       "         'bang': 1,\n",
       "         'james': 1,\n",
       "         'webb': 1,\n",
       "         'telescope': 1,\n",
       "         'great': 1,\n",
       "         'observatories': 1,\n",
       "         'associated': 1,\n",
       "         'services': 1,\n",
       "         'operations': 1,\n",
       "         'uncrewed': 1,\n",
       "         'launches': 1})"
      ]
     },
     "execution_count": 42,
     "metadata": {},
     "output_type": "execute_result"
    }
   ],
   "source": [
    "count_nasa=Counter(clean_sent)\n",
    "count_nasa"
   ]
  },
  {
   "cell_type": "code",
   "execution_count": 45,
   "id": "0f12c9c5",
   "metadata": {},
   "outputs": [
    {
     "data": {
      "text/plain": [
       "[('space', 11), ('program', 5), ('aeronautics', 3)]"
      ]
     },
     "execution_count": 45,
     "metadata": {},
     "output_type": "execute_result"
    }
   ],
   "source": [
    "counts=count_nasa.most_common(3)\n",
    "counts"
   ]
  },
  {
   "cell_type": "markdown",
   "id": "51a703eb",
   "metadata": {},
   "source": [
    "### Q2. Find the adjectives"
   ]
  },
  {
   "cell_type": "code",
   "execution_count": 34,
   "id": "80172731",
   "metadata": {},
   "outputs": [],
   "source": [
    "pune = \"Pune has historically been a major cultural centre, with important figures like Dnyaneshwar, Shivaji, Tukaram, Baji Rao I, Balaji Baji Rao, Madhavrao I, Nana Fadnavis, Mahadev Govind Ranade, Gopal Krishna Gokhale, Mahatma Jyotirao Phule, Savitribai Phule, Gopal Ganesh Agarkar, Tarabai Shinde, Dhondo Keshav Karve, and Pandita Ramabai doing their life's work in Pune City or in an area that falls in Pune Metropolitan Region. Pune was a major centre of resistance to British Raj, with people like Gopal Krishna Gokhale, Bal Gangadhar Tilak and Vinayak Damodar Savarkar playing leading roles in struggle for Indian independence in their times.\"\n"
   ]
  },
  {
   "cell_type": "code",
   "execution_count": 35,
   "id": "2edf00ab",
   "metadata": {},
   "outputs": [
    {
     "data": {
      "text/plain": [
       "[('Pune', 'NNP'),\n",
       " ('has', 'VBZ'),\n",
       " ('historically', 'RB'),\n",
       " ('been', 'VBN'),\n",
       " ('a', 'DT'),\n",
       " ('major', 'JJ'),\n",
       " ('cultural', 'JJ'),\n",
       " ('centre', 'NN'),\n",
       " (',', ','),\n",
       " ('with', 'IN'),\n",
       " ('important', 'JJ'),\n",
       " ('figures', 'NNS'),\n",
       " ('like', 'IN'),\n",
       " ('Dnyaneshwar', 'NNP'),\n",
       " (',', ','),\n",
       " ('Shivaji', 'NNP'),\n",
       " (',', ','),\n",
       " ('Tukaram', 'NNP'),\n",
       " (',', ','),\n",
       " ('Baji', 'NNP'),\n",
       " ('Rao', 'NNP'),\n",
       " ('I', 'PRP'),\n",
       " (',', ','),\n",
       " ('Balaji', 'NNP'),\n",
       " ('Baji', 'NNP'),\n",
       " ('Rao', 'NNP'),\n",
       " (',', ','),\n",
       " ('Madhavrao', 'NNP'),\n",
       " ('I', 'PRP'),\n",
       " (',', ','),\n",
       " ('Nana', 'NNP'),\n",
       " ('Fadnavis', 'NNP'),\n",
       " (',', ','),\n",
       " ('Mahadev', 'NNP'),\n",
       " ('Govind', 'NNP'),\n",
       " ('Ranade', 'NNP'),\n",
       " (',', ','),\n",
       " ('Gopal', 'NNP'),\n",
       " ('Krishna', 'NNP'),\n",
       " ('Gokhale', 'NNP'),\n",
       " (',', ','),\n",
       " ('Mahatma', 'NNP'),\n",
       " ('Jyotirao', 'NNP'),\n",
       " ('Phule', 'NNP'),\n",
       " (',', ','),\n",
       " ('Savitribai', 'NNP'),\n",
       " ('Phule', 'NNP'),\n",
       " (',', ','),\n",
       " ('Gopal', 'NNP'),\n",
       " ('Ganesh', 'NNP'),\n",
       " ('Agarkar', 'NNP'),\n",
       " (',', ','),\n",
       " ('Tarabai', 'NNP'),\n",
       " ('Shinde', 'NNP'),\n",
       " (',', ','),\n",
       " ('Dhondo', 'NNP'),\n",
       " ('Keshav', 'NNP'),\n",
       " ('Karve', 'NNP'),\n",
       " (',', ','),\n",
       " ('and', 'CC'),\n",
       " ('Pandita', 'NNP'),\n",
       " ('Ramabai', 'NNP'),\n",
       " ('doing', 'VBG'),\n",
       " ('their', 'PRP$'),\n",
       " ('life', 'NN'),\n",
       " (\"'s\", 'POS'),\n",
       " ('work', 'NN'),\n",
       " ('in', 'IN'),\n",
       " ('Pune', 'NNP'),\n",
       " ('City', 'NNP'),\n",
       " ('or', 'CC'),\n",
       " ('in', 'IN'),\n",
       " ('an', 'DT'),\n",
       " ('area', 'NN'),\n",
       " ('that', 'WDT'),\n",
       " ('falls', 'VBZ'),\n",
       " ('in', 'IN'),\n",
       " ('Pune', 'NNP'),\n",
       " ('Metropolitan', 'NNP'),\n",
       " ('Region', 'NNP'),\n",
       " ('.', '.'),\n",
       " ('Pune', 'NNP'),\n",
       " ('was', 'VBD'),\n",
       " ('a', 'DT'),\n",
       " ('major', 'JJ'),\n",
       " ('centre', 'NN'),\n",
       " ('of', 'IN'),\n",
       " ('resistance', 'NN'),\n",
       " ('to', 'TO'),\n",
       " ('British', 'VB'),\n",
       " ('Raj', 'NNP'),\n",
       " (',', ','),\n",
       " ('with', 'IN'),\n",
       " ('people', 'NNS'),\n",
       " ('like', 'IN'),\n",
       " ('Gopal', 'NNP'),\n",
       " ('Krishna', 'NNP'),\n",
       " ('Gokhale', 'NNP'),\n",
       " (',', ','),\n",
       " ('Bal', 'NNP'),\n",
       " ('Gangadhar', 'NNP'),\n",
       " ('Tilak', 'NNP'),\n",
       " ('and', 'CC'),\n",
       " ('Vinayak', 'NNP'),\n",
       " ('Damodar', 'NNP'),\n",
       " ('Savarkar', 'NNP'),\n",
       " ('playing', 'VBG'),\n",
       " ('leading', 'VBG'),\n",
       " ('roles', 'NNS'),\n",
       " ('in', 'IN'),\n",
       " ('struggle', 'NN'),\n",
       " ('for', 'IN'),\n",
       " ('Indian', 'JJ'),\n",
       " ('independence', 'NN'),\n",
       " ('in', 'IN'),\n",
       " ('their', 'PRP$'),\n",
       " ('times', 'NNS'),\n",
       " ('.', '.')]"
      ]
     },
     "execution_count": 35,
     "metadata": {},
     "output_type": "execute_result"
    }
   ],
   "source": [
    "tags = pos_tag(word_tokenize(pune))\n",
    "tags"
   ]
  },
  {
   "cell_type": "code",
   "execution_count": 36,
   "id": "6b3d2da3",
   "metadata": {},
   "outputs": [
    {
     "data": {
      "text/plain": [
       "['major', 'cultural', 'important', 'major', 'Indian']"
      ]
     },
     "execution_count": 36,
     "metadata": {},
     "output_type": "execute_result"
    }
   ],
   "source": [
    "[x[0] for x in tags if x[1].startswith('J')]"
   ]
  }
 ],
 "metadata": {
  "kernelspec": {
   "display_name": "Python 3 (ipykernel)",
   "language": "python",
   "name": "python3"
  },
  "language_info": {
   "codemirror_mode": {
    "name": "ipython",
    "version": 3
   },
   "file_extension": ".py",
   "mimetype": "text/x-python",
   "name": "python",
   "nbconvert_exporter": "python",
   "pygments_lexer": "ipython3",
   "version": "3.12.3"
  }
 },
 "nbformat": 4,
 "nbformat_minor": 5
}
