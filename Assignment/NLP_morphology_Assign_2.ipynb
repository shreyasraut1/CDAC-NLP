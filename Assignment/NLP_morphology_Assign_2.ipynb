{
  "nbformat": 4,
  "nbformat_minor": 0,
  "metadata": {
    "colab": {
      "provenance": []
    },
    "kernelspec": {
      "name": "python3",
      "display_name": "Python 3"
    },
    "language_info": {
      "name": "python"
    }
  },
  "cells": [
    {
      "cell_type": "code",
      "execution_count": 1,
      "metadata": {
        "colab": {
          "base_uri": "https://localhost:8080/"
        },
        "id": "mGPBRb1eimkl",
        "outputId": "5401f4fe-1d96-440c-a114-9c20d925f5f9"
      },
      "outputs": [
        {
          "output_type": "stream",
          "name": "stdout",
          "text": [
            "Collecting morfessor\n",
            "  Downloading Morfessor-2.0.6-py3-none-any.whl (35 kB)\n",
            "Collecting polyglot\n",
            "  Downloading polyglot-16.7.4.tar.gz (126 kB)\n",
            "\u001b[2K     \u001b[90m━━━━━━━━━━━━━━━━━━━━━━━━━━━━━━━━━━━━━━━━\u001b[0m \u001b[32m126.3/126.3 kB\u001b[0m \u001b[31m4.9 MB/s\u001b[0m eta \u001b[36m0:00:00\u001b[0m\n",
            "\u001b[?25h  Preparing metadata (setup.py) ... \u001b[?25l\u001b[?25hdone\n",
            "Collecting pyICU\n",
            "  Downloading PyICU-2.13.1.tar.gz (262 kB)\n",
            "\u001b[2K     \u001b[90m━━━━━━━━━━━━━━━━━━━━━━━━━━━━━━━━━━━━━━━━\u001b[0m \u001b[32m262.4/262.4 kB\u001b[0m \u001b[31m17.8 MB/s\u001b[0m eta \u001b[36m0:00:00\u001b[0m\n",
            "\u001b[?25h  Installing build dependencies ... \u001b[?25l\u001b[?25hdone\n",
            "  Getting requirements to build wheel ... \u001b[?25l\u001b[?25hdone\n",
            "  Preparing metadata (pyproject.toml) ... \u001b[?25l\u001b[?25hdone\n",
            "Building wheels for collected packages: polyglot, pyICU\n",
            "  Building wheel for polyglot (setup.py) ... \u001b[?25l\u001b[?25hdone\n",
            "  Created wheel for polyglot: filename=polyglot-16.7.4-py2.py3-none-any.whl size=52561 sha256=c3fdba9f40225fefb8ab742e2d9dc84b0e8087764aae22e664828dc3e7691559\n",
            "  Stored in directory: /root/.cache/pip/wheels/aa/92/4a/b172589446ba537db3bdb9a1f2204f27fe71217981c14ac368\n",
            "  Building wheel for pyICU (pyproject.toml) ... \u001b[?25l\u001b[?25hdone\n",
            "  Created wheel for pyICU: filename=PyICU-2.13.1-cp310-cp310-linux_x86_64.whl size=1801401 sha256=bb7394a58ba02ec95b181190039a1c64abd18d9100ed8ffc9072ec07ed3ca58f\n",
            "  Stored in directory: /root/.cache/pip/wheels/8e/45/08/f4bc505e31eb7bb779d493226921abf18cf55ed30142e70eae\n",
            "Successfully built polyglot pyICU\n",
            "Installing collected packages: pyICU, polyglot, morfessor\n",
            "Successfully installed morfessor-2.0.6 polyglot-16.7.4 pyICU-2.13.1\n"
          ]
        }
      ],
      "source": [
        "!pip install morfessor polyglot pyICU -U"
      ]
    },
    {
      "cell_type": "code",
      "source": [
        "!pip install pycld2 -U"
      ],
      "metadata": {
        "colab": {
          "base_uri": "https://localhost:8080/"
        },
        "id": "0-rnyTk1kfzS",
        "outputId": "b4418f6e-5983-4ba3-b3c8-f37150685673"
      },
      "execution_count": 2,
      "outputs": [
        {
          "output_type": "stream",
          "name": "stdout",
          "text": [
            "Collecting pycld2\n",
            "  Downloading pycld2-0.41.tar.gz (41.4 MB)\n",
            "\u001b[2K     \u001b[90m━━━━━━━━━━━━━━━━━━━━━━━━━━━━━━━━━━━━━━━━\u001b[0m \u001b[32m41.4/41.4 MB\u001b[0m \u001b[31m24.3 MB/s\u001b[0m eta \u001b[36m0:00:00\u001b[0m\n",
            "\u001b[?25h  Preparing metadata (setup.py) ... \u001b[?25l\u001b[?25hdone\n",
            "Building wheels for collected packages: pycld2\n",
            "  Building wheel for pycld2 (setup.py) ... \u001b[?25l\u001b[?25hdone\n",
            "  Created wheel for pycld2: filename=pycld2-0.41-cp310-cp310-linux_x86_64.whl size=9904038 sha256=6e4715f41adce2f304a9016d348a4e489b06751796146090a297b3b4f28067d6\n",
            "  Stored in directory: /root/.cache/pip/wheels/be/81/31/240c89c845e008a93d98542325270007de595bfd356eb0b06c\n",
            "Successfully built pycld2\n",
            "Installing collected packages: pycld2\n",
            "Successfully installed pycld2-0.41\n"
          ]
        }
      ]
    },
    {
      "cell_type": "code",
      "source": [
        "%%bash\n",
        "polyglot download morph2.en morph2.mr"
      ],
      "metadata": {
        "colab": {
          "base_uri": "https://localhost:8080/"
        },
        "id": "Qbo9HFzJi0-h",
        "outputId": "ccd6239d-b753-46f7-a4b8-062ab0610e4d"
      },
      "execution_count": 3,
      "outputs": [
        {
          "output_type": "stream",
          "name": "stdout",
          "text": [
            "[polyglot_data] Downloading package morph2.en to\n",
            "[polyglot_data]     /root/polyglot_data...\n",
            "[polyglot_data] Downloading package morph2.mr to\n",
            "[polyglot_data]     /root/polyglot_data...\n"
          ]
        }
      ]
    },
    {
      "cell_type": "code",
      "source": [
        "from polyglot.downloader import downloader\n",
        "print(downloader.supported_languages_table('morph2'))"
      ],
      "metadata": {
        "colab": {
          "base_uri": "https://localhost:8080/"
        },
        "id": "SxanKAx1kLfc",
        "outputId": "ee3f453f-168d-41fe-dd54-133b32615198"
      },
      "execution_count": 4,
      "outputs": [
        {
          "output_type": "stream",
          "name": "stdout",
          "text": [
            "  1. Kapampangan                2. Italian                    3. Upper Sorbian            \n",
            "  4. Sakha                      5. Hindi                      6. French                   \n",
            "  7. Spanish; Castilian         8. Vietnamese                 9. Arabic                   \n",
            " 10. Macedonian                11. Pashto, Pushto            12. Bosnian-Croatian-Serbian \n",
            " 13. Egyptian Arabic           14. Norwegian Nynorsk         15. Sundanese                \n",
            " 16. Sicilian                  17. Azerbaijani               18. Bulgarian                \n",
            " 19. Yoruba                    20. Tajik                     21. Georgian                 \n",
            " 22. Tatar                     23. Galician                  24. Malagasy                 \n",
            " 25. Uighur, Uyghur            26. Amharic                   27. Venetian                 \n",
            " 28. Yiddish                   29. Norwegian                 30. Alemannic                \n",
            " 31. Estonian                  32. West Flemish              33. Divehi; Dhivehi; Mald... \n",
            " 34. Japanese                  35. Ilokano                   36. Haitian; Haitian Creole  \n",
            " 37. Belarusian                38. Greek, Modern             39. Ossetian, Ossetic        \n",
            " 40. Welsh                     41. Malayalam                 42. Albanian                 \n",
            " 43. Marathi (Marāṭhī)         44. Armenian                  45. Slovene                  \n",
            " 46. Korean                    47. Breton                    48. Irish                    \n",
            " 49. Luxembourgish, Letzeb...  50. Bengali                   51. Serbian                  \n",
            " 52. Fiji Hindi                53. Javanese                  54. Finnish                  \n",
            " 55. Gan Chinese               56. Kirghiz, Kyrgyz           57. Catalan; Valencian       \n",
            " 58. Quechua                   59. Croatian                  60. Dutch                    \n",
            " 61. Swedish                   62. Ido                       63. Tagalog                  \n",
            " 64. Sanskrit (Saṁskṛta)       65. Piedmontese language      66. Asturian                 \n",
            " 67. Danish                    68. Cebuano                   69. Western Frisian          \n",
            " 70. Kannada                   71. Scots                     72. Maltese                  \n",
            " 73. Swahili                   74. Limburgish, Limburgan...  75. Waray-Waray              \n",
            " 76. Lombard language          77. Uzbek                     78. Kurdish                  \n",
            " 79. Latvian                   80. Burmese                   81. Aragonese                \n",
            " 82. Volapük                   83. Northern Sami             84. Faroese                  \n",
            " 85. Kazakh                    86. Telugu                    87. Ukrainian                \n",
            " 88. Assamese                  89. Chuvash                   90. Silesian                 \n",
            " 91. Turkmen                   92. Romanian, Moldavian, ...  93. Persian                  \n",
            " 94. Tibetan Standard, Tib...  95. Latin                     96. Slovak                   \n",
            " 97. Sinhala, Sinhalese        98. Bavarian                  99. Icelandic                \n",
            "100. Mongolian                101. Walloon                  102. Portuguese               \n",
            "103. Urdu                     104. Gujarati                 105. Manx                     \n",
            "106. Tamil                    107. Khmer                    108. English                  \n",
            "109. Malay                    110. Chechen                  111. Bishnupriya Manipuri     \n",
            "112. Afrikaans                113. Basque                   114. Polish                   \n",
            "115. German                   116. Esperanto                117. Indonesian               \n",
            "118. Occitan                  119. Chinese                  120. Czech                    \n",
            "121. Hebrew (modern)          122. Romansh                  123. Lithuanian               \n",
            "124. Turkish                  125. Nepali                   126. Bosnian                  \n",
            "127. Interlingua              128. Zazaki                   129. Oriya                    \n",
            "130. Hungarian                131. Scottish Gaelic; Gaelic  132. Bashkir                  \n",
            "133. Thai                     134. Panjabi, Punjabi         135. Russian                  \n",
            "\n"
          ]
        }
      ]
    },
    {
      "cell_type": "code",
      "source": [
        "from polyglot.text import Text,Word"
      ],
      "metadata": {
        "id": "QLYosyKSlcQU"
      },
      "execution_count": 5,
      "outputs": []
    },
    {
      "cell_type": "markdown",
      "source": [],
      "metadata": {
        "id": "IGp6mlOckZA_"
      }
    },
    {
      "cell_type": "code",
      "source": [
        "from nltk import pos_tag\n",
        "from  nltk.tokenize import word_tokenize"
      ],
      "metadata": {
        "id": "v6WmYDUCpV1h"
      },
      "execution_count": 11,
      "outputs": []
    },
    {
      "cell_type": "code",
      "source": [
        "nasa='''The National Aeronautics and Space Administration (NASA; /ˈnæsə/) is an independent agency of the U.S. federal government responsible for the civil space program, aeronautics research, and space research. Established in 1958, it succeeded the National Advisory Committee for Aeronautics (NACA) to give the U.S. space development effort a distinct civilian orientation, emphasizing peaceful applications in space science. It has since led most of America's space exploration programs, including Project Mercury, Project Gemini, the 1968–1972 Apollo Moon landing missions, the Skylab space station, and the Space Shuttle. Currently, NASA supports the International Space Station (ISS) along with the Commercial Crew Program, and oversees the development of the Orion spacecraft and the Space Launch System for the lunar Artemis program.\n",
        "\n",
        "NASA's science division is focused on better understanding Earth through the Earth Observing System; advancing heliophysics through the efforts of the Science Mission Directorate's Heliophysics Research Program; exploring bodies throughout the Solar System with advanced robotic spacecraft such as New Horizons and planetary rovers such as Perseverance; and researching astrophysics topics, such as the Big Bang, through the James Webb Space Telescope, the Great Observatories and associated programs. The Launch Services Program oversees launch operations for its uncrewed launches.'''"
      ],
      "metadata": {
        "id": "5c4UY4ogpHI0"
      },
      "execution_count": 12,
      "outputs": []
    },
    {
      "cell_type": "code",
      "source": [
        "!python -m nltk.downloader punkt\n"
      ],
      "metadata": {
        "colab": {
          "base_uri": "https://localhost:8080/"
        },
        "id": "s1WbtKi1pRQz",
        "outputId": "6b9a302c-6a92-4754-84ff-251ca08ba493"
      },
      "execution_count": 14,
      "outputs": [
        {
          "output_type": "stream",
          "name": "stdout",
          "text": [
            "/usr/lib/python3.10/runpy.py:126: RuntimeWarning: 'nltk.downloader' found in sys.modules after import of package 'nltk', but prior to execution of 'nltk.downloader'; this may result in unpredictable behaviour\n",
            "  warn(RuntimeWarning(msg))\n",
            "[nltk_data] Downloading package punkt to /root/nltk_data...\n",
            "[nltk_data]   Unzipping tokenizers/punkt.zip.\n"
          ]
        }
      ]
    },
    {
      "cell_type": "code",
      "source": [
        "import nltk\n",
        "nltk.download('averaged_perceptron_tagger')"
      ],
      "metadata": {
        "colab": {
          "base_uri": "https://localhost:8080/"
        },
        "id": "3gA29kd2phCh",
        "outputId": "ff46db09-77aa-4c0a-eedf-2db3b7d7082b"
      },
      "execution_count": 18,
      "outputs": [
        {
          "output_type": "stream",
          "name": "stderr",
          "text": [
            "[nltk_data] Downloading package averaged_perceptron_tagger to\n",
            "[nltk_data]     /root/nltk_data...\n",
            "[nltk_data]   Unzipping taggers/averaged_perceptron_tagger.zip.\n"
          ]
        },
        {
          "output_type": "execute_result",
          "data": {
            "text/plain": [
              "True"
            ]
          },
          "metadata": {},
          "execution_count": 18
        }
      ]
    },
    {
      "cell_type": "code",
      "source": [
        "tags = pos_tag(word_tokenize(nasa))"
      ],
      "metadata": {
        "id": "6q5ccRRkprgR"
      },
      "execution_count": 19,
      "outputs": []
    },
    {
      "cell_type": "code",
      "source": [
        "noun_word = [word for word, tag in tags if tag.startswith('N')]\n",
        "noun_word"
      ],
      "metadata": {
        "colab": {
          "base_uri": "https://localhost:8080/"
        },
        "id": "8cIvjl6Dp0WR",
        "outputId": "bef5b609-aa7e-4c94-f6c2-039fe898a5df"
      },
      "execution_count": 22,
      "outputs": [
        {
          "output_type": "execute_result",
          "data": {
            "text/plain": [
              "['National',\n",
              " 'Aeronautics',\n",
              " 'Space',\n",
              " 'Administration',\n",
              " 'NASA',\n",
              " '/ˈnæsə/',\n",
              " 'agency',\n",
              " 'U.S.',\n",
              " 'government',\n",
              " 'space',\n",
              " 'program',\n",
              " 'aeronautics',\n",
              " 'research',\n",
              " 'space',\n",
              " 'research',\n",
              " 'National',\n",
              " 'Advisory',\n",
              " 'Committee',\n",
              " 'Aeronautics',\n",
              " 'NACA',\n",
              " 'U.S.',\n",
              " 'space',\n",
              " 'development',\n",
              " 'effort',\n",
              " 'orientation',\n",
              " 'applications',\n",
              " 'space',\n",
              " 'science',\n",
              " 'America',\n",
              " 'space',\n",
              " 'exploration',\n",
              " 'programs',\n",
              " 'Project',\n",
              " 'Mercury',\n",
              " 'Project',\n",
              " 'Gemini',\n",
              " 'Apollo',\n",
              " 'Moon',\n",
              " 'missions',\n",
              " 'Skylab',\n",
              " 'space',\n",
              " 'station',\n",
              " 'Space',\n",
              " 'Shuttle',\n",
              " 'Currently',\n",
              " 'NASA',\n",
              " 'International',\n",
              " 'Space',\n",
              " 'Station',\n",
              " 'ISS',\n",
              " 'Crew',\n",
              " 'Program',\n",
              " 'development',\n",
              " 'Orion',\n",
              " 'spacecraft',\n",
              " 'Space',\n",
              " 'Launch',\n",
              " 'System',\n",
              " 'Artemis',\n",
              " 'program',\n",
              " 'NASA',\n",
              " 'science',\n",
              " 'division',\n",
              " 'understanding',\n",
              " 'Earth',\n",
              " 'Earth',\n",
              " 'Observing',\n",
              " 'System',\n",
              " 'heliophysics',\n",
              " 'efforts',\n",
              " 'Science',\n",
              " 'Mission',\n",
              " 'Directorate',\n",
              " 'Heliophysics',\n",
              " 'Research',\n",
              " 'Program',\n",
              " 'bodies',\n",
              " 'Solar',\n",
              " 'System',\n",
              " 'spacecraft',\n",
              " 'New',\n",
              " 'Horizons',\n",
              " 'rovers',\n",
              " 'Perseverance',\n",
              " 'astrophysics',\n",
              " 'topics',\n",
              " 'Big',\n",
              " 'Bang',\n",
              " 'James',\n",
              " 'Webb',\n",
              " 'Space',\n",
              " 'Telescope',\n",
              " 'Great',\n",
              " 'Observatories',\n",
              " 'programs',\n",
              " 'Services',\n",
              " 'Program',\n",
              " 'operations',\n",
              " 'launches']"
            ]
          },
          "metadata": {},
          "execution_count": 22
        }
      ]
    },
    {
      "cell_type": "code",
      "source": [
        "for w in noun_word:\n",
        "  w=Word(w,language=\"en\")\n",
        "  print(w,\"\\t\\t\",w.morphemes)"
      ],
      "metadata": {
        "colab": {
          "base_uri": "https://localhost:8080/"
        },
        "id": "M8Vrf1fXp38h",
        "outputId": "0b6724ba-f16a-4c4e-eadf-11e743cbf02b"
      },
      "execution_count": 23,
      "outputs": [
        {
          "output_type": "stream",
          "name": "stdout",
          "text": [
            "National \t\t ['National']\n",
            "Aeronautics \t\t ['Aero', 'naut', 'ic', 's']\n",
            "Space \t\t ['Space']\n",
            "Administration \t\t ['Administ', 'ration']\n",
            "NASA \t\t ['NAS', 'A']\n",
            "/ˈnæsə/ \t\t ['/ˈnæsə/']\n",
            "agency \t\t ['age', 'ncy']\n",
            "U.S. \t\t ['U.S.']\n",
            "government \t\t ['government']\n",
            "space \t\t ['space']\n",
            "program \t\t ['program']\n",
            "aeronautics \t\t ['aero', 'naut', 'ic', 's']\n",
            "research \t\t ['research']\n",
            "space \t\t ['space']\n",
            "research \t\t ['research']\n",
            "National \t\t ['National']\n",
            "Advisory \t\t ['Advisor', 'y']\n",
            "Committee \t\t ['Committee']\n",
            "Aeronautics \t\t ['Aero', 'naut', 'ic', 's']\n",
            "NACA \t\t ['NA', 'C', 'A']\n",
            "U.S. \t\t ['U.S.']\n",
            "space \t\t ['space']\n",
            "development \t\t ['develop', 'ment']\n",
            "effort \t\t ['ef', 'fort']\n",
            "orientation \t\t ['orient', 'ation']\n",
            "applications \t\t ['appli', 'cation', 's']\n",
            "space \t\t ['space']\n",
            "science \t\t ['science']\n",
            "America \t\t ['America']\n",
            "space \t\t ['space']\n",
            "exploration \t\t ['explor', 'ation']\n",
            "programs \t\t ['program', 's']\n",
            "Project \t\t ['Project']\n",
            "Mercury \t\t ['Mer', 'cu', 'ry']\n",
            "Project \t\t ['Project']\n",
            "Gemini \t\t ['Ge', 'mini']\n",
            "Apollo \t\t ['Apollo']\n",
            "Moon \t\t ['Moon']\n",
            "missions \t\t ['mission', 's']\n",
            "Skylab \t\t ['Sky', 'lab']\n",
            "space \t\t ['space']\n",
            "station \t\t ['station']\n",
            "Space \t\t ['Space']\n",
            "Shuttle \t\t ['Shu', 'ttle']\n",
            "Currently \t\t ['Curr', 'ent', 'ly']\n",
            "NASA \t\t ['NAS', 'A']\n",
            "International \t\t ['Inter', 'national']\n",
            "Space \t\t ['Space']\n",
            "Station \t\t ['St', 'ation']\n",
            "ISS \t\t ['IS', 'S']\n",
            "Crew \t\t ['Crew']\n",
            "Program \t\t ['Program']\n",
            "development \t\t ['develop', 'ment']\n",
            "Orion \t\t ['Or', 'ion']\n",
            "spacecraft \t\t ['space', 'craft']\n",
            "Space \t\t ['Space']\n",
            "Launch \t\t ['Lau', 'nch']\n",
            "System \t\t ['System']\n",
            "Artemis \t\t ['Arte', 'mis']\n",
            "program \t\t ['program']\n",
            "NASA \t\t ['NAS', 'A']\n",
            "science \t\t ['science']\n",
            "division \t\t ['division']\n",
            "understanding \t\t ['understand', 'ing']\n",
            "Earth \t\t ['Earth']\n",
            "Earth \t\t ['Earth']\n",
            "Observing \t\t ['Observ', 'ing']\n",
            "System \t\t ['System']\n",
            "heliophysics \t\t ['hel', 'io', 'physics']\n",
            "efforts \t\t ['ef', 'fort', 's']\n",
            "Science \t\t ['Sci', 'ence']\n",
            "Mission \t\t ['Miss', 'ion']\n",
            "Directorate \t\t ['Director', 'ate']\n",
            "Heliophysics \t\t ['H', 'elio', 'physics']\n",
            "Research \t\t ['Re', 'search']\n",
            "Program \t\t ['Program']\n",
            "bodies \t\t ['bodi', 'es']\n",
            "Solar \t\t ['Sol', 'ar']\n",
            "System \t\t ['System']\n",
            "spacecraft \t\t ['space', 'craft']\n",
            "New \t\t ['New']\n",
            "Horizons \t\t ['Horizon', 's']\n",
            "rovers \t\t ['r', 'over', 's']\n",
            "Perseverance \t\t ['Perse', 'ver', 'ance']\n",
            "astrophysics \t\t ['astro', 'physics']\n",
            "topics \t\t ['top', 'ic', 's']\n",
            "Big \t\t ['Big']\n",
            "Bang \t\t ['Bang']\n",
            "James \t\t ['Jam', 'es']\n",
            "Webb \t\t ['Web', 'b']\n",
            "Space \t\t ['Space']\n",
            "Telescope \t\t ['Tele', 'scope']\n",
            "Great \t\t ['Great']\n",
            "Observatories \t\t ['Observ', 'ator', 'ies']\n",
            "programs \t\t ['program', 's']\n",
            "Services \t\t ['Serv', 'ice', 's']\n",
            "Program \t\t ['Program']\n",
            "operations \t\t ['operation', 's']\n",
            "launches \t\t ['launch', 'es']\n"
          ]
        }
      ]
    },
    {
      "cell_type": "code",
      "source": [],
      "metadata": {
        "id": "TRy9PsMaqdoO"
      },
      "execution_count": null,
      "outputs": []
    }
  ]
}